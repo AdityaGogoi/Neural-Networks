{
 "cells": [
  {
   "cell_type": "markdown",
   "metadata": {},
   "source": [
    "## Implementing Neural Network"
   ]
  },
  {
   "cell_type": "markdown",
   "metadata": {},
   "source": [
    "### Importing Data"
   ]
  },
  {
   "cell_type": "code",
   "execution_count": 4,
   "metadata": {
    "collapsed": false
   },
   "outputs": [
    {
     "name": "stdout",
     "output_type": "stream",
     "text": [
      "     sepal_length  sepal_width  petal_length  petal_width         species\n",
      "143           6.8          3.2           5.9          2.3  Iris-virginica\n",
      "11            4.8          3.4           1.6          0.2     Iris-setosa\n",
      "28            5.2          3.4           1.4          0.2     Iris-setosa\n",
      "110           6.5          3.2           5.1          2.0  Iris-virginica\n",
      "126           6.2          2.8           4.8          1.8  Iris-virginica\n",
      "['Iris-virginica' 'Iris-setosa' 'Iris-versicolor']\n"
     ]
    },
    {
     "data": {
      "image/png": "[encoded data removed]",
      "text/plain": [
       "<matplotlib.figure.Figure at 0x296cc141eb8>"
      ]
     },
     "metadata": {},
     "output_type": "display_data"
    }
   ],
   "source": [
    "import pandas\n",
    "import matplotlib.pyplot as plt\n",
    "import numpy as np\n",
    "\n",
    "# Read in dataset\n",
    "iris = pandas.read_csv(\"iris.csv\")\n",
    "\n",
    "# Shuffle Rows\n",
    "shuffled_rows = np.random.permutation(iris.index)\n",
    "iris = iris.loc[shuffled_rows,:]\n",
    "\n",
    "print(iris.head())\n",
    "\n",
    "# Get unique species\n",
    "print(iris.species.unique())\n",
    "\n",
    "iris.hist()\n",
    "plt.show()"
   ]
  },
  {
   "cell_type": "markdown",
   "metadata": {},
   "source": [
    "### Creating Neurons\n",
    "#### In a data with large amount of non-linearity, we can neither use linear or logistic regression.\n",
    "#### For such a dataset, we need Neural Networks.\n",
    "#### Neural Networks needs activation units, called neurons, to make prediction of some outcome. \n",
    "#### Neurons take in some input, apply a transformation function, and return an output.\n",
    "#### The units of a neuron are then fed into an activation function h. We will use the classic Sigmoid function, g(z)=1/(1+e^(-z))\n",
    "#### The sigmoid function then leads to a Sigmoid activation function.\n",
    "#### This is what we will be implementing in the following cell."
   ]
  },
  {
   "cell_type": "code",
   "execution_count": 10,
   "metadata": {
    "collapsed": false
   },
   "outputs": [
    {
     "name": "stdout",
     "output_type": "stream",
     "text": [
      "[ 0.4652341]\n"
     ]
    }
   ],
   "source": [
    "# Using dot operator for matrix multiplication\n",
    "def sigmoid_activation(x,theta):\n",
    "    x = np.asarray(x)\n",
    "    theta = np.asarray(theta)\n",
    "    return 1/(1 + np.exp(-np.dot(theta.T,x)))\n",
    "\n",
    "# Variables to test Sigmoid function\n",
    "iris[\"ones\"] = np.ones(iris.shape[0])\n",
    "X = iris[['ones','sepal_length','sepal_width','petal_length','petal_width']].values\n",
    "y = (iris.species == 'Iris-versicolor').values.astype(int)\n",
    "\n",
    "x0 = X[0]\n",
    "\n",
    "# Initiate theta randomly\n",
    "theta_init = np.random.normal(0,0.01,size=(5,1))\n",
    "\n",
    "a1 = sigmoid_activation(x0,theta_init)\n",
    "print(a1)"
   ]
  },
  {
   "cell_type": "markdown",
   "metadata": {},
   "source": [
    "### Cost Function\n",
    "#### Cost function helps us measure the difference between the desired and actual output.\n",
    "#### The lower the cost function, the more accurate is our model.\n",
    "#### We will create a function singlecost, which will use input features X, targets y and parameters theta to compute the cost function.\n",
    "#### And assign the cost to the variable first_cost."
   ]
  },
  {
   "cell_type": "code",
   "execution_count": 12,
   "metadata": {
    "collapsed": false
   },
   "outputs": [
    {
     "name": "stdout",
     "output_type": "stream",
     "text": [
      "0.645516204974\n"
     ]
    }
   ],
   "source": [
    "# We will first just test on the first values of the feature and target\n",
    "\n",
    "x0 = X[0]\n",
    "y0 = y[0]\n",
    "\n",
    "# Initializing parameters of 5 units and just 1 layer\n",
    "theta_init = np.random.normal(0,0.01,size=(5,1))\n",
    "\n",
    "def singlecost(X,y,theta):\n",
    "    # Activation computation\n",
    "    h = sigmoid_activation(X.T, theta)\n",
    "    # Getting the cost function through -ve average of target*log(activation) + (1-target)*log(1-activation)\n",
    "    cost = - np.mean(y * np.log(h) + (1-y) * np.log(1-h))\n",
    "    return cost\n",
    "\n",
    "first_cost = singlecost(x0, y0, theta_init)\n",
    "print(first_cost)"
   ]
  },
  {
   "cell_type": "markdown",
   "metadata": {},
   "source": [
    "### Computing the Gradients\n",
    "#### Getting partial derivatives of the cost functions using chain rule.\n",
    "#### 1. Computed error between target variable and prediction\n",
    "#### 2. Compute sensitivity relative to each parameter.\n",
    "#### Assigning average gradients to variable grads."
   ]
  },
  {
   "cell_type": "code",
   "execution_count": 14,
   "metadata": {
    "collapsed": true
   },
   "outputs": [],
   "source": [
    "# Initialize parameters\n",
    "theta_init = np.random.normal(0,0.01, size=(5,1))\n",
    "\n",
    "# Array for storing updates\n",
    "grads = np.zeros(theta_init.shape)\n",
    "\n",
    "# Getting number of observations\n",
    "n = X.shape[0]\n",
    "\n",
    "for j,obs in enumerate(X):\n",
    "    # Compute activation\n",
    "    h = sigmoid_activation(obs,theta_init)\n",
    "    # Get delta\n",
    "    delta = (y[j]-h) * h * (1-h) * obs\n",
    "    # Accumulate\n",
    "    grads += delta[:,np.newaxis]/X.shape[0]"
   ]
  },
  {
   "cell_type": "markdown",
   "metadata": {},
   "source": [
    "### Two Layer Network\n",
    "#### We can use Gradient Descent to learn parameters and making predictions.\n",
    "#### Gradient Descent minimizes the cost function by subtracting the product of gradients and the learning rate from previous parameters.\n",
    "#### We will keep on repeating this step until cost function converges or maximum number of iterations is reached.\n",
    "#### We are implementing the whole thing in the function learn."
   ]
  },
  {
   "cell_type": "code",
   "execution_count": 17,
   "metadata": {
    "collapsed": false
   },
   "outputs": [
    {
     "data": {
      "image/png": "[encoded data removed]",
      "text/plain": [
       "<matplotlib.figure.Figure at 0x296cc40cdd8>"
      ]
     },
     "metadata": {},
     "output_type": "display_data"
    }
   ],
   "source": [
    "theta_init = np.random.normal(0,0.01,size=(5,1))\n",
    "\n",
    "# Set the learning rate, it is a multiplying parmeter to decrease the cost function until it reaches a minimum.\n",
    "learning_rate = 0.1\n",
    "\n",
    "# Maximum number of iterations for Gradient Descent\n",
    "maxepochs = 10000\n",
    "\n",
    "# Cost convergence threshold i.e. (prevcost - cost) > convergence_thres\n",
    "convergence_thres = 0.0001\n",
    "\n",
    "def learn(X, y, theta, learning_rate, maxepochs, convergence_thres):\n",
    "    costs=[]\n",
    "    cost = singlecost(X, y, theta) # Compute initial cost\n",
    "    costprev = cost + convergence_thres + 0.01 # Set of initial costprev to past while loop\n",
    "    counter = 0 # Counter\n",
    "    #Loop until convergence\n",
    "    for counter in range(maxepochs):\n",
    "        grads = np.zeros(theta.shape)\n",
    "        for j,obs in enumerate(X):\n",
    "            h = sigmoid_activation(obs, theta) # Compute activation\n",
    "            delta = (y[j]-h) * h * (1-h) * obs # Get Delta\n",
    "            grads += delta[:,np.newaxis]/X.shape[0] # Accumulate\n",
    "            \n",
    "        # Update Parameters\n",
    "        theta += grads * learning_rate\n",
    "        counter += 1 # Count increment\n",
    "        costprev = cost # Store previous cost\n",
    "        cost = singlecost(X, y, theta) # Compute new cost\n",
    "        costs.append(cost)\n",
    "        if np.abs(costprev-cost) < convergence_thres:\n",
    "            break\n",
    "            \n",
    "    plt.plot(costs)\n",
    "    plt.title(\"Convergence of the Cost Function\")\n",
    "    plt.ylabel(\"J($\\Theta$)\")\n",
    "    plt.xlabel(\"Iteration\")\n",
    "    plt.show()\n",
    "    return theta\n",
    "\n",
    "theta = learn(X, y, theta_init, learning_rate, maxepochs, convergence_thres)"
   ]
  },
  {
   "cell_type": "markdown",
   "metadata": {},
   "source": [
    "### Neural Network\n",
    "#### Neural Networks are usually built on multiple layers of neurons\n",
    "#### Adding more layers makes it learn more complex functions.\n",
    "#### One layer inputs their output to the next layer, which does the same for the next layer.\n",
    "#### We will do the same in feedforward function."
   ]
  },
  {
   "cell_type": "code",
   "execution_count": 20,
   "metadata": {
    "collapsed": false
   },
   "outputs": [],
   "source": [
    "theta0_init = np.random.normal(0,0.01,size=(5,4))\n",
    "theta1_init = np.random.normal(0,0.01,size=(5,1))\n",
    "\n",
    "def feedforward(X, theta0, theta1):\n",
    "    # First Layer\n",
    "    a1 = sigmoid_activation(X.T, theta0).T\n",
    "    # Adding column of ones for bias term i.e. the first activation unit\n",
    "    a1 = np.column_stack([np.ones(a1.shape[0]),a1])\n",
    "    # Activation units are then inputted to the output layer\n",
    "    out = sigmoid_activation(a1.T, theta1)\n",
    "    return out\n",
    "\n",
    "h = feedforward(X, theta0_init, theta1_init)"
   ]
  },
  {
   "cell_type": "markdown",
   "metadata": {},
   "source": [
    "### Multiple Nueral Network Cost Function\n",
    "#### Cost function for multiple layer Neural Network is similar to the one we used above, but just slightly complicated.\n",
    "#### Creating the same in function multiplecost()."
   ]
  },
  {
   "cell_type": "code",
   "execution_count": 24,
   "metadata": {
    "collapsed": false
   },
   "outputs": [
    {
     "name": "stdout",
     "output_type": "stream",
     "text": [
      "Cost =  0.689299699748\n"
     ]
    }
   ],
   "source": [
    "# X, y, theta1, theta1 are already present.\n",
    "\n",
    "def multiplecost(X, y, theta0, theta1):\n",
    "    # Feed through network\n",
    "    h = feedforward(X, theta0, theta1)\n",
    "    # Compute Error\n",
    "    inner = y * np.log(h) + (1-y) * np.log(1-h)\n",
    "    # Negative of average error\n",
    "    return -np.mean(inner)\n",
    "\n",
    "theta0_init = np.random.normal(0,0.01,size=(5,4))\n",
    "theta1_init = np.random.normal(0,0.01,size=(5,1))\n",
    "\n",
    "c = multiplecost(X, y, theta0_init, theta1_init)\n",
    "print(\"Cost = \",c)"
   ]
  },
  {
   "cell_type": "markdown",
   "metadata": {},
   "source": [
    "### Backpropagation\n",
    "#### We have created multiple layers of parameters to learn and have implemented forward propogation by feeding data through each layer and returning an output.\n",
    "#### Backpropogation focuses on updating parameters starting at last layer and circling back through each layer, updating accordingly.\n",
    "#### This allows each neuron to have an error value associated with itself, which is basically the difference between the desired output and the achieved output.\n",
    "#### With the help of this Error value, the weight of each neuron is updated so that its contribution to the final prediction becomes more accurate.\n",
    "#### We are using a complete class to define our 3 layer neural network, with all the functions written above included in it."
   ]
  },
  {
   "cell_type": "code",
   "execution_count": 29,
   "metadata": {
    "collapsed": false
   },
   "outputs": [
    {
     "data": {
      "image/png": "[encoded data removed]",
      "text/plain": [
       "<matplotlib.figure.Figure at 0x296ccaacdd8>"
      ]
     },
     "metadata": {},
     "output_type": "display_data"
    }
   ],
   "source": [
    "class NNet3:\n",
    "    def __init__(self, learning_rate=0.5, maxepochs=1e4, convergence_thres=1e-5, hidden_layer=4):\n",
    "        self.learning_rate = learning_rate\n",
    "        self.maxepochs = int(maxepochs)\n",
    "        self.convergence_thres = 1e-5\n",
    "        self.hidden_layer = int(hidden_layer)\n",
    "        \n",
    "    def _multiplecost(self, X, y):\n",
    "        # Feed through network\n",
    "        l1, l2 = self._feedforward(X)\n",
    "        # Compute error\n",
    "        inner = y * np.log(l2) + (1-y) * np.log(1-l2)\n",
    "        # Negative of average error\n",
    "        return -np.mean(inner)\n",
    "    \n",
    "    def _feedforward(self, X):\n",
    "        # Feedforward to the first layer\n",
    "        l1 = sigmoid_activation(X.T, self.theta0).T\n",
    "        # Adding column of 1s for Bias Term\n",
    "        l1 = np.column_stack([np.ones(l1.shape[0]), l1])\n",
    "        #  Activation units are then outputted to the Output Layer\n",
    "        l2 = sigmoid_activation(l1.T, self.theta1)\n",
    "        return l1, l2\n",
    "    \n",
    "    def predict(self, X):\n",
    "        _, y = self._feedforward(X)\n",
    "        return y\n",
    "    \n",
    "    def learn(self, X, y):\n",
    "        nobs, ncols = X.shape\n",
    "        self.theta0 = np.random.normal(0, 0.01, size=(ncols, self.hidden_layer))\n",
    "        self.theta1 = np.random.normal(0, 0.01, size=(self.hidden_layer+1,1))\n",
    "        \n",
    "        self.costs = []\n",
    "        cost = self._multiplecost(X, y)\n",
    "        self.costs.append(cost)\n",
    "        # Setting initial costprev\n",
    "        costprev = cost + self.convergence_thres + 1\n",
    "        counter = 0 # Initialize counter\n",
    "        \n",
    "        # Loop until convergence\n",
    "        for counter in range(self.maxepochs):\n",
    "            # Feedforward through network\n",
    "            l1, l2 = self._feedforward(X)\n",
    "            \n",
    "            # Start backpropagation\n",
    "            # Computer gradients\n",
    "            l2_delta = (y-l2) * l2 * (1-l2)\n",
    "            l1_delta = l2_delta.T.dot(self.theta1.T) * l1 * (1-l1)\n",
    "            \n",
    "            # Update parameters by averaging gradients and multiplying with the learning rate\n",
    "            self.theta1 += l1.T.dot(l2_delta.T) / nobs * self.learning_rate\n",
    "            self.theta0 += X.T.dot(l1_delta)[:,1:] / nobs * self.learning_rate\n",
    "            \n",
    "            # Store costs and checks for convergence\n",
    "            counter += 1\n",
    "            costprev = cost # store previous cost\n",
    "            cost = self._multiplecost(X, y) # Get next cost\n",
    "            self.costs.append(cost)\n",
    "            if np.abs(costprev-cost) < self.convergence_thres and counter > 500:\n",
    "                break\n",
    "                \n",
    "# Set learning rate\n",
    "learning_rate = 0.5\n",
    "\n",
    "# Max number of iterations for gradient descent\n",
    "maxepochs = 10000\n",
    "\n",
    "# Costs convergence threshold, i.e. (prevcost - cost) > convergence_thres\n",
    "convergence_thres = 0.00001\n",
    "\n",
    "# Number of hidden units\n",
    "hidden_units = 4\n",
    "\n",
    "# Initialize model\n",
    "model = NNet3(learning_rate = learning_rate, maxepochs=maxepochs,\n",
    "              convergence_thres = convergence_thres, hidden_layer = hidden_units)\n",
    "\n",
    "# Train the model\n",
    "model.learn(X, y)\n",
    "\n",
    "# Plot costs\n",
    "plt.plot(model.costs)\n",
    "plt.title(\"Convergence of the Cost Function\")\n",
    "plt.ylabel(\"J($\\Theta$)\")\n",
    "plt.xlabel(\"Iteration\")\n",
    "plt.show()"
   ]
  },
  {
   "cell_type": "markdown",
   "metadata": {},
   "source": [
    "### Splitting Data\n",
    "#### After implementing a Neural Network and testing its cost function, we can test it by splitting our data into training and test datasets."
   ]
  },
  {
   "cell_type": "code",
   "execution_count": 31,
   "metadata": {
    "collapsed": true
   },
   "outputs": [],
   "source": [
    "# Train will occupy the first 70 rows\n",
    "# Test will occupy the last 30 rows\n",
    "\n",
    "X_train = X[:70]\n",
    "y_train = y[:70]\n",
    "\n",
    "X_test = X[-30:]\n",
    "y_test = y[-30:]"
   ]
  },
  {
   "cell_type": "markdown",
   "metadata": {},
   "source": [
    "### Predicting Iris flowers\n",
    "#### We will calculate the AUC (Area Under the Curve) for the predictions returned by our Neural Network.\n",
    "#### We will focus on the first row of the predictions matrix returned by the predict function, which contains the type of flower.\n",
    "#### This will be our target variable.\n",
    "#### We will calculate the AUC score using scikit learn."
   ]
  },
  {
   "cell_type": "code",
   "execution_count": 34,
   "metadata": {
    "collapsed": false
   },
   "outputs": [
    {
     "name": "stdout",
     "output_type": "stream",
     "text": [
      "Score =  0.428571428571\n"
     ]
    }
   ],
   "source": [
    "from sklearn.metrics import roc_auc_score\n",
    "\n",
    "learning_rate = 0.5\n",
    "\n",
    "maxepochs = 10000\n",
    "\n",
    "convergence_thres = 0.00001\n",
    "\n",
    "hidden_units = 4\n",
    "\n",
    "model = NNet3(learning_rate = learning_rate, maxepochs = maxepochs, \n",
    "             convergence_thres = convergence_thres, hidden_layer = hidden_units)\n",
    "\n",
    "model.learn(X_train, y_train)\n",
    "\n",
    "yhat = model.predict(X_test)[0]\n",
    "\n",
    "auc = roc_auc_score(y_test, yhat)\n",
    "print(\"Score = \", auc)"
   ]
  },
  {
   "cell_type": "markdown",
   "metadata": {},
   "source": [
    "#### This is not a good score. The score should be within the range of 0 to 1 and should be as far away from 0.5 as possible."
   ]
  },
  {
   "cell_type": "code",
   "execution_count": 40,
   "metadata": {
    "collapsed": false
   },
   "outputs": [
    {
     "name": "stdout",
     "output_type": "stream",
     "text": [
      "[ 0.09167752  0.03822576  0.4972514   0.04089059  0.02815855  0.49618096\n",
      "  0.03689112  0.49009291  0.49656147  0.48892937  0.49545543  0.49697154\n",
      "  0.49713651  0.49713791  0.49234016  0.0185853   0.49121655  0.49392488\n",
      "  0.04826644  0.49476376  0.04608774  0.49472779  0.49688489  0.49101864\n",
      "  0.03621085  0.49650398  0.49240266  0.49651289  0.49712315  0.49675136]\n"
     ]
    }
   ],
   "source": [
    "print(yhat)"
   ]
  },
  {
   "cell_type": "code",
   "execution_count": 39,
   "metadata": {
    "collapsed": false
   },
   "outputs": [
    {
     "name": "stdout",
     "output_type": "stream",
     "text": [
      "[0 0 0 0 0 0 0 1 0 1 0 0 0 0 1 0 1 1 0 1 0 1 0 1 0 0 1 0 0 0]\n"
     ]
    }
   ],
   "source": [
    "print(y_test)"
   ]
  },
  {
   "cell_type": "markdown",
   "metadata": {},
   "source": [
    "### Conclusion:-\n",
    "#### The reason why our Neural Network is not performing well is because it has a very low distinguishing value between the different species of iris flowers.\n",
    "#### We can see this in the yhat array, where NO prediction is above the 50% mark.\n",
    "#### Changes can be made to make the Neural Network adapt to more complex functions.\n",
    "#### The smaller size of the data can also be a factor for the lower accuracy."
   ]
  },
  {
   "cell_type": "code",
   "execution_count": null,
   "metadata": {
    "collapsed": true
   },
   "outputs": [],
   "source": []
  }
 ],
 "metadata": {
  "kernelspec": {
   "display_name": "Python 3",
   "language": "python",
   "name": "python3"
  },
  "language_info": {
   "codemirror_mode": {
    "name": "ipython",
    "version": 3
   },
   "file_extension": ".py",
   "mimetype": "text/x-python",
   "name": "python",
   "nbconvert_exporter": "python",
   "pygments_lexer": "ipython3",
   "version": "3.6.0"
  }
 },
 "nbformat": 4,
 "nbformat_minor": 2
}
